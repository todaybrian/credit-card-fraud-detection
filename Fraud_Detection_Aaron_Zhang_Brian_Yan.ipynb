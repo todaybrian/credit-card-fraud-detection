{
  "nbformat": 4,
  "nbformat_minor": 0,
  "metadata": {
    "colab": {
      "provenance": [],
      "collapsed_sections": [
        "l3YdbuPWzu--"
      ]
    },
    "kernelspec": {
      "name": "python3",
      "display_name": "Python 3"
    },
    "language_info": {
      "name": "python"
    }
  },
  "cells": [
    {
      "cell_type": "code",
      "execution_count": 1,
      "metadata": {
        "id": "p-F5--emxz19"
      },
      "outputs": [],
      "source": [
        "# Importing libraries\n",
        "\n",
        "import pandas as pd\n",
        "import matplotlib.pyplot as plt\n",
        "import numpy as np\n",
        "\n",
        "import seaborn as sns\n",
        "import missingno as miss_no\n",
        "\n",
        "from sklearn.preprocessing import OneHotEncoder\n",
        "from sklearn.feature_selection import SelectFromModel\n",
        "from sklearn.ensemble import RandomForestClassifier\n",
        "from sklearn.linear_model import Lasso, LogisticRegression\n",
        "from sklearn.decomposition import PCA\n",
        "from sklearn.model_selection import train_test_split, KFold, learning_curve, GridSearchCV, train_test_split, StratifiedKFold\n",
        "from sklearn.metrics import accuracy_score, classification_report, confusion_matrix, auc, precision_score, recall_score, f1_score, log_loss\n",
        "from sklearn.pipeline import Pipeline\n",
        "\n",
        "import warnings\n",
        "warnings.filterwarnings(\"ignore\")"
      ]
    },
    {
      "cell_type": "markdown",
      "source": [
        "## Import Data Set"
      ],
      "metadata": {
        "id": "l3YdbuPWzu--"
      }
    },
    {
      "cell_type": "code",
      "source": [
        "df = pd.read_csv(\"creditcard.csv\")"
      ],
      "metadata": {
        "id": "TuXgRwaezrXB"
      },
      "execution_count": 2,
      "outputs": []
    },
    {
      "cell_type": "code",
      "source": [
        "df.head()"
      ],
      "metadata": {
        "colab": {
          "base_uri": "https://localhost:8080/",
          "height": 0
        },
        "id": "GHxRH4cbzssx",
        "outputId": "2841f7ea-36f3-449e-e7f5-754d06170a74"
      },
      "execution_count": 3,
      "outputs": [
        {
          "output_type": "execute_result",
          "data": {
            "text/plain": [
              "   Time        V1        V2        V3        V4        V5        V6        V7  \\\n",
              "0   0.0 -1.359807 -0.072781  2.536347  1.378155 -0.338321  0.462388  0.239599   \n",
              "1   0.0  1.191857  0.266151  0.166480  0.448154  0.060018 -0.082361 -0.078803   \n",
              "2   1.0 -1.358354 -1.340163  1.773209  0.379780 -0.503198  1.800499  0.791461   \n",
              "3   1.0 -0.966272 -0.185226  1.792993 -0.863291 -0.010309  1.247203  0.237609   \n",
              "4   2.0 -1.158233  0.877737  1.548718  0.403034 -0.407193  0.095921  0.592941   \n",
              "\n",
              "         V8        V9  ...       V21       V22       V23       V24       V25  \\\n",
              "0  0.098698  0.363787  ... -0.018307  0.277838 -0.110474  0.066928  0.128539   \n",
              "1  0.085102 -0.255425  ... -0.225775 -0.638672  0.101288 -0.339846  0.167170   \n",
              "2  0.247676 -1.514654  ...  0.247998  0.771679  0.909412 -0.689281 -0.327642   \n",
              "3  0.377436 -1.387024  ... -0.108300  0.005274 -0.190321 -1.175575  0.647376   \n",
              "4 -0.270533  0.817739  ... -0.009431  0.798278 -0.137458  0.141267 -0.206010   \n",
              "\n",
              "        V26       V27       V28  Amount  Class  \n",
              "0 -0.189115  0.133558 -0.021053  149.62      0  \n",
              "1  0.125895 -0.008983  0.014724    2.69      0  \n",
              "2 -0.139097 -0.055353 -0.059752  378.66      0  \n",
              "3 -0.221929  0.062723  0.061458  123.50      0  \n",
              "4  0.502292  0.219422  0.215153   69.99      0  \n",
              "\n",
              "[5 rows x 31 columns]"
            ],
            "text/html": [
              "\n",
              "  <div id=\"df-26631f2f-1d52-4c76-a247-be313665169c\">\n",
              "    <div class=\"colab-df-container\">\n",
              "      <div>\n",
              "<style scoped>\n",
              "    .dataframe tbody tr th:only-of-type {\n",
              "        vertical-align: middle;\n",
              "    }\n",
              "\n",
              "    .dataframe tbody tr th {\n",
              "        vertical-align: top;\n",
              "    }\n",
              "\n",
              "    .dataframe thead th {\n",
              "        text-align: right;\n",
              "    }\n",
              "</style>\n",
              "<table border=\"1\" class=\"dataframe\">\n",
              "  <thead>\n",
              "    <tr style=\"text-align: right;\">\n",
              "      <th></th>\n",
              "      <th>Time</th>\n",
              "      <th>V1</th>\n",
              "      <th>V2</th>\n",
              "      <th>V3</th>\n",
              "      <th>V4</th>\n",
              "      <th>V5</th>\n",
              "      <th>V6</th>\n",
              "      <th>V7</th>\n",
              "      <th>V8</th>\n",
              "      <th>V9</th>\n",
              "      <th>...</th>\n",
              "      <th>V21</th>\n",
              "      <th>V22</th>\n",
              "      <th>V23</th>\n",
              "      <th>V24</th>\n",
              "      <th>V25</th>\n",
              "      <th>V26</th>\n",
              "      <th>V27</th>\n",
              "      <th>V28</th>\n",
              "      <th>Amount</th>\n",
              "      <th>Class</th>\n",
              "    </tr>\n",
              "  </thead>\n",
              "  <tbody>\n",
              "    <tr>\n",
              "      <th>0</th>\n",
              "      <td>0.0</td>\n",
              "      <td>-1.359807</td>\n",
              "      <td>-0.072781</td>\n",
              "      <td>2.536347</td>\n",
              "      <td>1.378155</td>\n",
              "      <td>-0.338321</td>\n",
              "      <td>0.462388</td>\n",
              "      <td>0.239599</td>\n",
              "      <td>0.098698</td>\n",
              "      <td>0.363787</td>\n",
              "      <td>...</td>\n",
              "      <td>-0.018307</td>\n",
              "      <td>0.277838</td>\n",
              "      <td>-0.110474</td>\n",
              "      <td>0.066928</td>\n",
              "      <td>0.128539</td>\n",
              "      <td>-0.189115</td>\n",
              "      <td>0.133558</td>\n",
              "      <td>-0.021053</td>\n",
              "      <td>149.62</td>\n",
              "      <td>0</td>\n",
              "    </tr>\n",
              "    <tr>\n",
              "      <th>1</th>\n",
              "      <td>0.0</td>\n",
              "      <td>1.191857</td>\n",
              "      <td>0.266151</td>\n",
              "      <td>0.166480</td>\n",
              "      <td>0.448154</td>\n",
              "      <td>0.060018</td>\n",
              "      <td>-0.082361</td>\n",
              "      <td>-0.078803</td>\n",
              "      <td>0.085102</td>\n",
              "      <td>-0.255425</td>\n",
              "      <td>...</td>\n",
              "      <td>-0.225775</td>\n",
              "      <td>-0.638672</td>\n",
              "      <td>0.101288</td>\n",
              "      <td>-0.339846</td>\n",
              "      <td>0.167170</td>\n",
              "      <td>0.125895</td>\n",
              "      <td>-0.008983</td>\n",
              "      <td>0.014724</td>\n",
              "      <td>2.69</td>\n",
              "      <td>0</td>\n",
              "    </tr>\n",
              "    <tr>\n",
              "      <th>2</th>\n",
              "      <td>1.0</td>\n",
              "      <td>-1.358354</td>\n",
              "      <td>-1.340163</td>\n",
              "      <td>1.773209</td>\n",
              "      <td>0.379780</td>\n",
              "      <td>-0.503198</td>\n",
              "      <td>1.800499</td>\n",
              "      <td>0.791461</td>\n",
              "      <td>0.247676</td>\n",
              "      <td>-1.514654</td>\n",
              "      <td>...</td>\n",
              "      <td>0.247998</td>\n",
              "      <td>0.771679</td>\n",
              "      <td>0.909412</td>\n",
              "      <td>-0.689281</td>\n",
              "      <td>-0.327642</td>\n",
              "      <td>-0.139097</td>\n",
              "      <td>-0.055353</td>\n",
              "      <td>-0.059752</td>\n",
              "      <td>378.66</td>\n",
              "      <td>0</td>\n",
              "    </tr>\n",
              "    <tr>\n",
              "      <th>3</th>\n",
              "      <td>1.0</td>\n",
              "      <td>-0.966272</td>\n",
              "      <td>-0.185226</td>\n",
              "      <td>1.792993</td>\n",
              "      <td>-0.863291</td>\n",
              "      <td>-0.010309</td>\n",
              "      <td>1.247203</td>\n",
              "      <td>0.237609</td>\n",
              "      <td>0.377436</td>\n",
              "      <td>-1.387024</td>\n",
              "      <td>...</td>\n",
              "      <td>-0.108300</td>\n",
              "      <td>0.005274</td>\n",
              "      <td>-0.190321</td>\n",
              "      <td>-1.175575</td>\n",
              "      <td>0.647376</td>\n",
              "      <td>-0.221929</td>\n",
              "      <td>0.062723</td>\n",
              "      <td>0.061458</td>\n",
              "      <td>123.50</td>\n",
              "      <td>0</td>\n",
              "    </tr>\n",
              "    <tr>\n",
              "      <th>4</th>\n",
              "      <td>2.0</td>\n",
              "      <td>-1.158233</td>\n",
              "      <td>0.877737</td>\n",
              "      <td>1.548718</td>\n",
              "      <td>0.403034</td>\n",
              "      <td>-0.407193</td>\n",
              "      <td>0.095921</td>\n",
              "      <td>0.592941</td>\n",
              "      <td>-0.270533</td>\n",
              "      <td>0.817739</td>\n",
              "      <td>...</td>\n",
              "      <td>-0.009431</td>\n",
              "      <td>0.798278</td>\n",
              "      <td>-0.137458</td>\n",
              "      <td>0.141267</td>\n",
              "      <td>-0.206010</td>\n",
              "      <td>0.502292</td>\n",
              "      <td>0.219422</td>\n",
              "      <td>0.215153</td>\n",
              "      <td>69.99</td>\n",
              "      <td>0</td>\n",
              "    </tr>\n",
              "  </tbody>\n",
              "</table>\n",
              "<p>5 rows × 31 columns</p>\n",
              "</div>\n",
              "      <button class=\"colab-df-convert\" onclick=\"convertToInteractive('df-26631f2f-1d52-4c76-a247-be313665169c')\"\n",
              "              title=\"Convert this dataframe to an interactive table.\"\n",
              "              style=\"display:none;\">\n",
              "        \n",
              "  <svg xmlns=\"http://www.w3.org/2000/svg\" height=\"24px\"viewBox=\"0 0 24 24\"\n",
              "       width=\"24px\">\n",
              "    <path d=\"M0 0h24v24H0V0z\" fill=\"none\"/>\n",
              "    <path d=\"M18.56 5.44l.94 2.06.94-2.06 2.06-.94-2.06-.94-.94-2.06-.94 2.06-2.06.94zm-11 1L8.5 8.5l.94-2.06 2.06-.94-2.06-.94L8.5 2.5l-.94 2.06-2.06.94zm10 10l.94 2.06.94-2.06 2.06-.94-2.06-.94-.94-2.06-.94 2.06-2.06.94z\"/><path d=\"M17.41 7.96l-1.37-1.37c-.4-.4-.92-.59-1.43-.59-.52 0-1.04.2-1.43.59L10.3 9.45l-7.72 7.72c-.78.78-.78 2.05 0 2.83L4 21.41c.39.39.9.59 1.41.59.51 0 1.02-.2 1.41-.59l7.78-7.78 2.81-2.81c.8-.78.8-2.07 0-2.86zM5.41 20L4 18.59l7.72-7.72 1.47 1.35L5.41 20z\"/>\n",
              "  </svg>\n",
              "      </button>\n",
              "      \n",
              "  <style>\n",
              "    .colab-df-container {\n",
              "      display:flex;\n",
              "      flex-wrap:wrap;\n",
              "      gap: 12px;\n",
              "    }\n",
              "\n",
              "    .colab-df-convert {\n",
              "      background-color: #E8F0FE;\n",
              "      border: none;\n",
              "      border-radius: 50%;\n",
              "      cursor: pointer;\n",
              "      display: none;\n",
              "      fill: #1967D2;\n",
              "      height: 32px;\n",
              "      padding: 0 0 0 0;\n",
              "      width: 32px;\n",
              "    }\n",
              "\n",
              "    .colab-df-convert:hover {\n",
              "      background-color: #E2EBFA;\n",
              "      box-shadow: 0px 1px 2px rgba(60, 64, 67, 0.3), 0px 1px 3px 1px rgba(60, 64, 67, 0.15);\n",
              "      fill: #174EA6;\n",
              "    }\n",
              "\n",
              "    [theme=dark] .colab-df-convert {\n",
              "      background-color: #3B4455;\n",
              "      fill: #D2E3FC;\n",
              "    }\n",
              "\n",
              "    [theme=dark] .colab-df-convert:hover {\n",
              "      background-color: #434B5C;\n",
              "      box-shadow: 0px 1px 3px 1px rgba(0, 0, 0, 0.15);\n",
              "      filter: drop-shadow(0px 1px 2px rgba(0, 0, 0, 0.3));\n",
              "      fill: #FFFFFF;\n",
              "    }\n",
              "  </style>\n",
              "\n",
              "      <script>\n",
              "        const buttonEl =\n",
              "          document.querySelector('#df-26631f2f-1d52-4c76-a247-be313665169c button.colab-df-convert');\n",
              "        buttonEl.style.display =\n",
              "          google.colab.kernel.accessAllowed ? 'block' : 'none';\n",
              "\n",
              "        async function convertToInteractive(key) {\n",
              "          const element = document.querySelector('#df-26631f2f-1d52-4c76-a247-be313665169c');\n",
              "          const dataTable =\n",
              "            await google.colab.kernel.invokeFunction('convertToInteractive',\n",
              "                                                     [key], {});\n",
              "          if (!dataTable) return;\n",
              "\n",
              "          const docLinkHtml = 'Like what you see? Visit the ' +\n",
              "            '<a target=\"_blank\" href=https://colab.research.google.com/notebooks/data_table.ipynb>data table notebook</a>'\n",
              "            + ' to learn more about interactive tables.';\n",
              "          element.innerHTML = '';\n",
              "          dataTable['output_type'] = 'display_data';\n",
              "          await google.colab.output.renderOutput(dataTable, element);\n",
              "          const docLink = document.createElement('div');\n",
              "          docLink.innerHTML = docLinkHtml;\n",
              "          element.appendChild(docLink);\n",
              "        }\n",
              "      </script>\n",
              "    </div>\n",
              "  </div>\n",
              "  "
            ]
          },
          "metadata": {},
          "execution_count": 3
        }
      ]
    },
    {
      "cell_type": "code",
      "source": [
        "df.describe()"
      ],
      "metadata": {
        "colab": {
          "base_uri": "https://localhost:8080/",
          "height": 0
        },
        "id": "MMq5LdayzyTD",
        "outputId": "3f691cf6-0c30-4631-a365-2180d363c5e1"
      },
      "execution_count": 4,
      "outputs": [
        {
          "output_type": "execute_result",
          "data": {
            "text/plain": [
              "                Time            V1            V2            V3            V4  \\\n",
              "count  284807.000000  2.848070e+05  2.848070e+05  2.848070e+05  2.848070e+05   \n",
              "mean    94813.859575  1.168375e-15  3.416908e-16 -1.379537e-15  2.074095e-15   \n",
              "std     47488.145955  1.958696e+00  1.651309e+00  1.516255e+00  1.415869e+00   \n",
              "min         0.000000 -5.640751e+01 -7.271573e+01 -4.832559e+01 -5.683171e+00   \n",
              "25%     54201.500000 -9.203734e-01 -5.985499e-01 -8.903648e-01 -8.486401e-01   \n",
              "50%     84692.000000  1.810880e-02  6.548556e-02  1.798463e-01 -1.984653e-02   \n",
              "75%    139320.500000  1.315642e+00  8.037239e-01  1.027196e+00  7.433413e-01   \n",
              "max    172792.000000  2.454930e+00  2.205773e+01  9.382558e+00  1.687534e+01   \n",
              "\n",
              "                 V5            V6            V7            V8            V9  \\\n",
              "count  2.848070e+05  2.848070e+05  2.848070e+05  2.848070e+05  2.848070e+05   \n",
              "mean   9.604066e-16  1.487313e-15 -5.556467e-16  1.213481e-16 -2.406331e-15   \n",
              "std    1.380247e+00  1.332271e+00  1.237094e+00  1.194353e+00  1.098632e+00   \n",
              "min   -1.137433e+02 -2.616051e+01 -4.355724e+01 -7.321672e+01 -1.343407e+01   \n",
              "25%   -6.915971e-01 -7.682956e-01 -5.540759e-01 -2.086297e-01 -6.430976e-01   \n",
              "50%   -5.433583e-02 -2.741871e-01  4.010308e-02  2.235804e-02 -5.142873e-02   \n",
              "75%    6.119264e-01  3.985649e-01  5.704361e-01  3.273459e-01  5.971390e-01   \n",
              "max    3.480167e+01  7.330163e+01  1.205895e+02  2.000721e+01  1.559499e+01   \n",
              "\n",
              "       ...           V21           V22           V23           V24  \\\n",
              "count  ...  2.848070e+05  2.848070e+05  2.848070e+05  2.848070e+05   \n",
              "mean   ...  1.654067e-16 -3.568593e-16  2.578648e-16  4.473266e-15   \n",
              "std    ...  7.345240e-01  7.257016e-01  6.244603e-01  6.056471e-01   \n",
              "min    ... -3.483038e+01 -1.093314e+01 -4.480774e+01 -2.836627e+00   \n",
              "25%    ... -2.283949e-01 -5.423504e-01 -1.618463e-01 -3.545861e-01   \n",
              "50%    ... -2.945017e-02  6.781943e-03 -1.119293e-02  4.097606e-02   \n",
              "75%    ...  1.863772e-01  5.285536e-01  1.476421e-01  4.395266e-01   \n",
              "max    ...  2.720284e+01  1.050309e+01  2.252841e+01  4.584549e+00   \n",
              "\n",
              "                V25           V26           V27           V28         Amount  \\\n",
              "count  2.848070e+05  2.848070e+05  2.848070e+05  2.848070e+05  284807.000000   \n",
              "mean   5.340915e-16  1.683437e-15 -3.660091e-16 -1.227390e-16      88.349619   \n",
              "std    5.212781e-01  4.822270e-01  4.036325e-01  3.300833e-01     250.120109   \n",
              "min   -1.029540e+01 -2.604551e+00 -2.256568e+01 -1.543008e+01       0.000000   \n",
              "25%   -3.171451e-01 -3.269839e-01 -7.083953e-02 -5.295979e-02       5.600000   \n",
              "50%    1.659350e-02 -5.213911e-02  1.342146e-03  1.124383e-02      22.000000   \n",
              "75%    3.507156e-01  2.409522e-01  9.104512e-02  7.827995e-02      77.165000   \n",
              "max    7.519589e+00  3.517346e+00  3.161220e+01  3.384781e+01   25691.160000   \n",
              "\n",
              "               Class  \n",
              "count  284807.000000  \n",
              "mean        0.001727  \n",
              "std         0.041527  \n",
              "min         0.000000  \n",
              "25%         0.000000  \n",
              "50%         0.000000  \n",
              "75%         0.000000  \n",
              "max         1.000000  \n",
              "\n",
              "[8 rows x 31 columns]"
            ],
            "text/html": [
              "\n",
              "  <div id=\"df-3abdfaa2-1d4d-43ca-b610-d610dff4c2bb\">\n",
              "    <div class=\"colab-df-container\">\n",
              "      <div>\n",
              "<style scoped>\n",
              "    .dataframe tbody tr th:only-of-type {\n",
              "        vertical-align: middle;\n",
              "    }\n",
              "\n",
              "    .dataframe tbody tr th {\n",
              "        vertical-align: top;\n",
              "    }\n",
              "\n",
              "    .dataframe thead th {\n",
              "        text-align: right;\n",
              "    }\n",
              "</style>\n",
              "<table border=\"1\" class=\"dataframe\">\n",
              "  <thead>\n",
              "    <tr style=\"text-align: right;\">\n",
              "      <th></th>\n",
              "      <th>Time</th>\n",
              "      <th>V1</th>\n",
              "      <th>V2</th>\n",
              "      <th>V3</th>\n",
              "      <th>V4</th>\n",
              "      <th>V5</th>\n",
              "      <th>V6</th>\n",
              "      <th>V7</th>\n",
              "      <th>V8</th>\n",
              "      <th>V9</th>\n",
              "      <th>...</th>\n",
              "      <th>V21</th>\n",
              "      <th>V22</th>\n",
              "      <th>V23</th>\n",
              "      <th>V24</th>\n",
              "      <th>V25</th>\n",
              "      <th>V26</th>\n",
              "      <th>V27</th>\n",
              "      <th>V28</th>\n",
              "      <th>Amount</th>\n",
              "      <th>Class</th>\n",
              "    </tr>\n",
              "  </thead>\n",
              "  <tbody>\n",
              "    <tr>\n",
              "      <th>count</th>\n",
              "      <td>284807.000000</td>\n",
              "      <td>2.848070e+05</td>\n",
              "      <td>2.848070e+05</td>\n",
              "      <td>2.848070e+05</td>\n",
              "      <td>2.848070e+05</td>\n",
              "      <td>2.848070e+05</td>\n",
              "      <td>2.848070e+05</td>\n",
              "      <td>2.848070e+05</td>\n",
              "      <td>2.848070e+05</td>\n",
              "      <td>2.848070e+05</td>\n",
              "      <td>...</td>\n",
              "      <td>2.848070e+05</td>\n",
              "      <td>2.848070e+05</td>\n",
              "      <td>2.848070e+05</td>\n",
              "      <td>2.848070e+05</td>\n",
              "      <td>2.848070e+05</td>\n",
              "      <td>2.848070e+05</td>\n",
              "      <td>2.848070e+05</td>\n",
              "      <td>2.848070e+05</td>\n",
              "      <td>284807.000000</td>\n",
              "      <td>284807.000000</td>\n",
              "    </tr>\n",
              "    <tr>\n",
              "      <th>mean</th>\n",
              "      <td>94813.859575</td>\n",
              "      <td>1.168375e-15</td>\n",
              "      <td>3.416908e-16</td>\n",
              "      <td>-1.379537e-15</td>\n",
              "      <td>2.074095e-15</td>\n",
              "      <td>9.604066e-16</td>\n",
              "      <td>1.487313e-15</td>\n",
              "      <td>-5.556467e-16</td>\n",
              "      <td>1.213481e-16</td>\n",
              "      <td>-2.406331e-15</td>\n",
              "      <td>...</td>\n",
              "      <td>1.654067e-16</td>\n",
              "      <td>-3.568593e-16</td>\n",
              "      <td>2.578648e-16</td>\n",
              "      <td>4.473266e-15</td>\n",
              "      <td>5.340915e-16</td>\n",
              "      <td>1.683437e-15</td>\n",
              "      <td>-3.660091e-16</td>\n",
              "      <td>-1.227390e-16</td>\n",
              "      <td>88.349619</td>\n",
              "      <td>0.001727</td>\n",
              "    </tr>\n",
              "    <tr>\n",
              "      <th>std</th>\n",
              "      <td>47488.145955</td>\n",
              "      <td>1.958696e+00</td>\n",
              "      <td>1.651309e+00</td>\n",
              "      <td>1.516255e+00</td>\n",
              "      <td>1.415869e+00</td>\n",
              "      <td>1.380247e+00</td>\n",
              "      <td>1.332271e+00</td>\n",
              "      <td>1.237094e+00</td>\n",
              "      <td>1.194353e+00</td>\n",
              "      <td>1.098632e+00</td>\n",
              "      <td>...</td>\n",
              "      <td>7.345240e-01</td>\n",
              "      <td>7.257016e-01</td>\n",
              "      <td>6.244603e-01</td>\n",
              "      <td>6.056471e-01</td>\n",
              "      <td>5.212781e-01</td>\n",
              "      <td>4.822270e-01</td>\n",
              "      <td>4.036325e-01</td>\n",
              "      <td>3.300833e-01</td>\n",
              "      <td>250.120109</td>\n",
              "      <td>0.041527</td>\n",
              "    </tr>\n",
              "    <tr>\n",
              "      <th>min</th>\n",
              "      <td>0.000000</td>\n",
              "      <td>-5.640751e+01</td>\n",
              "      <td>-7.271573e+01</td>\n",
              "      <td>-4.832559e+01</td>\n",
              "      <td>-5.683171e+00</td>\n",
              "      <td>-1.137433e+02</td>\n",
              "      <td>-2.616051e+01</td>\n",
              "      <td>-4.355724e+01</td>\n",
              "      <td>-7.321672e+01</td>\n",
              "      <td>-1.343407e+01</td>\n",
              "      <td>...</td>\n",
              "      <td>-3.483038e+01</td>\n",
              "      <td>-1.093314e+01</td>\n",
              "      <td>-4.480774e+01</td>\n",
              "      <td>-2.836627e+00</td>\n",
              "      <td>-1.029540e+01</td>\n",
              "      <td>-2.604551e+00</td>\n",
              "      <td>-2.256568e+01</td>\n",
              "      <td>-1.543008e+01</td>\n",
              "      <td>0.000000</td>\n",
              "      <td>0.000000</td>\n",
              "    </tr>\n",
              "    <tr>\n",
              "      <th>25%</th>\n",
              "      <td>54201.500000</td>\n",
              "      <td>-9.203734e-01</td>\n",
              "      <td>-5.985499e-01</td>\n",
              "      <td>-8.903648e-01</td>\n",
              "      <td>-8.486401e-01</td>\n",
              "      <td>-6.915971e-01</td>\n",
              "      <td>-7.682956e-01</td>\n",
              "      <td>-5.540759e-01</td>\n",
              "      <td>-2.086297e-01</td>\n",
              "      <td>-6.430976e-01</td>\n",
              "      <td>...</td>\n",
              "      <td>-2.283949e-01</td>\n",
              "      <td>-5.423504e-01</td>\n",
              "      <td>-1.618463e-01</td>\n",
              "      <td>-3.545861e-01</td>\n",
              "      <td>-3.171451e-01</td>\n",
              "      <td>-3.269839e-01</td>\n",
              "      <td>-7.083953e-02</td>\n",
              "      <td>-5.295979e-02</td>\n",
              "      <td>5.600000</td>\n",
              "      <td>0.000000</td>\n",
              "    </tr>\n",
              "    <tr>\n",
              "      <th>50%</th>\n",
              "      <td>84692.000000</td>\n",
              "      <td>1.810880e-02</td>\n",
              "      <td>6.548556e-02</td>\n",
              "      <td>1.798463e-01</td>\n",
              "      <td>-1.984653e-02</td>\n",
              "      <td>-5.433583e-02</td>\n",
              "      <td>-2.741871e-01</td>\n",
              "      <td>4.010308e-02</td>\n",
              "      <td>2.235804e-02</td>\n",
              "      <td>-5.142873e-02</td>\n",
              "      <td>...</td>\n",
              "      <td>-2.945017e-02</td>\n",
              "      <td>6.781943e-03</td>\n",
              "      <td>-1.119293e-02</td>\n",
              "      <td>4.097606e-02</td>\n",
              "      <td>1.659350e-02</td>\n",
              "      <td>-5.213911e-02</td>\n",
              "      <td>1.342146e-03</td>\n",
              "      <td>1.124383e-02</td>\n",
              "      <td>22.000000</td>\n",
              "      <td>0.000000</td>\n",
              "    </tr>\n",
              "    <tr>\n",
              "      <th>75%</th>\n",
              "      <td>139320.500000</td>\n",
              "      <td>1.315642e+00</td>\n",
              "      <td>8.037239e-01</td>\n",
              "      <td>1.027196e+00</td>\n",
              "      <td>7.433413e-01</td>\n",
              "      <td>6.119264e-01</td>\n",
              "      <td>3.985649e-01</td>\n",
              "      <td>5.704361e-01</td>\n",
              "      <td>3.273459e-01</td>\n",
              "      <td>5.971390e-01</td>\n",
              "      <td>...</td>\n",
              "      <td>1.863772e-01</td>\n",
              "      <td>5.285536e-01</td>\n",
              "      <td>1.476421e-01</td>\n",
              "      <td>4.395266e-01</td>\n",
              "      <td>3.507156e-01</td>\n",
              "      <td>2.409522e-01</td>\n",
              "      <td>9.104512e-02</td>\n",
              "      <td>7.827995e-02</td>\n",
              "      <td>77.165000</td>\n",
              "      <td>0.000000</td>\n",
              "    </tr>\n",
              "    <tr>\n",
              "      <th>max</th>\n",
              "      <td>172792.000000</td>\n",
              "      <td>2.454930e+00</td>\n",
              "      <td>2.205773e+01</td>\n",
              "      <td>9.382558e+00</td>\n",
              "      <td>1.687534e+01</td>\n",
              "      <td>3.480167e+01</td>\n",
              "      <td>7.330163e+01</td>\n",
              "      <td>1.205895e+02</td>\n",
              "      <td>2.000721e+01</td>\n",
              "      <td>1.559499e+01</td>\n",
              "      <td>...</td>\n",
              "      <td>2.720284e+01</td>\n",
              "      <td>1.050309e+01</td>\n",
              "      <td>2.252841e+01</td>\n",
              "      <td>4.584549e+00</td>\n",
              "      <td>7.519589e+00</td>\n",
              "      <td>3.517346e+00</td>\n",
              "      <td>3.161220e+01</td>\n",
              "      <td>3.384781e+01</td>\n",
              "      <td>25691.160000</td>\n",
              "      <td>1.000000</td>\n",
              "    </tr>\n",
              "  </tbody>\n",
              "</table>\n",
              "<p>8 rows × 31 columns</p>\n",
              "</div>\n",
              "      <button class=\"colab-df-convert\" onclick=\"convertToInteractive('df-3abdfaa2-1d4d-43ca-b610-d610dff4c2bb')\"\n",
              "              title=\"Convert this dataframe to an interactive table.\"\n",
              "              style=\"display:none;\">\n",
              "        \n",
              "  <svg xmlns=\"http://www.w3.org/2000/svg\" height=\"24px\"viewBox=\"0 0 24 24\"\n",
              "       width=\"24px\">\n",
              "    <path d=\"M0 0h24v24H0V0z\" fill=\"none\"/>\n",
              "    <path d=\"M18.56 5.44l.94 2.06.94-2.06 2.06-.94-2.06-.94-.94-2.06-.94 2.06-2.06.94zm-11 1L8.5 8.5l.94-2.06 2.06-.94-2.06-.94L8.5 2.5l-.94 2.06-2.06.94zm10 10l.94 2.06.94-2.06 2.06-.94-2.06-.94-.94-2.06-.94 2.06-2.06.94z\"/><path d=\"M17.41 7.96l-1.37-1.37c-.4-.4-.92-.59-1.43-.59-.52 0-1.04.2-1.43.59L10.3 9.45l-7.72 7.72c-.78.78-.78 2.05 0 2.83L4 21.41c.39.39.9.59 1.41.59.51 0 1.02-.2 1.41-.59l7.78-7.78 2.81-2.81c.8-.78.8-2.07 0-2.86zM5.41 20L4 18.59l7.72-7.72 1.47 1.35L5.41 20z\"/>\n",
              "  </svg>\n",
              "      </button>\n",
              "      \n",
              "  <style>\n",
              "    .colab-df-container {\n",
              "      display:flex;\n",
              "      flex-wrap:wrap;\n",
              "      gap: 12px;\n",
              "    }\n",
              "\n",
              "    .colab-df-convert {\n",
              "      background-color: #E8F0FE;\n",
              "      border: none;\n",
              "      border-radius: 50%;\n",
              "      cursor: pointer;\n",
              "      display: none;\n",
              "      fill: #1967D2;\n",
              "      height: 32px;\n",
              "      padding: 0 0 0 0;\n",
              "      width: 32px;\n",
              "    }\n",
              "\n",
              "    .colab-df-convert:hover {\n",
              "      background-color: #E2EBFA;\n",
              "      box-shadow: 0px 1px 2px rgba(60, 64, 67, 0.3), 0px 1px 3px 1px rgba(60, 64, 67, 0.15);\n",
              "      fill: #174EA6;\n",
              "    }\n",
              "\n",
              "    [theme=dark] .colab-df-convert {\n",
              "      background-color: #3B4455;\n",
              "      fill: #D2E3FC;\n",
              "    }\n",
              "\n",
              "    [theme=dark] .colab-df-convert:hover {\n",
              "      background-color: #434B5C;\n",
              "      box-shadow: 0px 1px 3px 1px rgba(0, 0, 0, 0.15);\n",
              "      filter: drop-shadow(0px 1px 2px rgba(0, 0, 0, 0.3));\n",
              "      fill: #FFFFFF;\n",
              "    }\n",
              "  </style>\n",
              "\n",
              "      <script>\n",
              "        const buttonEl =\n",
              "          document.querySelector('#df-3abdfaa2-1d4d-43ca-b610-d610dff4c2bb button.colab-df-convert');\n",
              "        buttonEl.style.display =\n",
              "          google.colab.kernel.accessAllowed ? 'block' : 'none';\n",
              "\n",
              "        async function convertToInteractive(key) {\n",
              "          const element = document.querySelector('#df-3abdfaa2-1d4d-43ca-b610-d610dff4c2bb');\n",
              "          const dataTable =\n",
              "            await google.colab.kernel.invokeFunction('convertToInteractive',\n",
              "                                                     [key], {});\n",
              "          if (!dataTable) return;\n",
              "\n",
              "          const docLinkHtml = 'Like what you see? Visit the ' +\n",
              "            '<a target=\"_blank\" href=https://colab.research.google.com/notebooks/data_table.ipynb>data table notebook</a>'\n",
              "            + ' to learn more about interactive tables.';\n",
              "          element.innerHTML = '';\n",
              "          dataTable['output_type'] = 'display_data';\n",
              "          await google.colab.output.renderOutput(dataTable, element);\n",
              "          const docLink = document.createElement('div');\n",
              "          docLink.innerHTML = docLinkHtml;\n",
              "          element.appendChild(docLink);\n",
              "        }\n",
              "      </script>\n",
              "    </div>\n",
              "  </div>\n",
              "  "
            ]
          },
          "metadata": {},
          "execution_count": 4
        }
      ]
    },
    {
      "cell_type": "markdown",
      "source": [
        "## Data Cleaning"
      ],
      "metadata": {
        "id": "p1rjKQ0czgeY"
      }
    },
    {
      "cell_type": "markdown",
      "source": [
        "### Feature 1 (Time) is irrevalant to determing if data is fraud"
      ],
      "metadata": {
        "id": "GVpjvClwzo0A"
      }
    },
    {
      "cell_type": "code",
      "source": [
        "df = df.drop(\"Time\", axis=1)"
      ],
      "metadata": {
        "id": "ehl9bpoTzl6v"
      },
      "execution_count": 5,
      "outputs": []
    },
    {
      "cell_type": "code",
      "source": [
        "df.head()"
      ],
      "metadata": {
        "colab": {
          "base_uri": "https://localhost:8080/",
          "height": 279
        },
        "id": "-hPp_UZUzlec",
        "outputId": "c497f77e-65ff-4034-f0b6-f56ab83310ac"
      },
      "execution_count": 6,
      "outputs": [
        {
          "output_type": "execute_result",
          "data": {
            "text/plain": [
              "         V1        V2        V3        V4        V5        V6        V7  \\\n",
              "0 -1.359807 -0.072781  2.536347  1.378155 -0.338321  0.462388  0.239599   \n",
              "1  1.191857  0.266151  0.166480  0.448154  0.060018 -0.082361 -0.078803   \n",
              "2 -1.358354 -1.340163  1.773209  0.379780 -0.503198  1.800499  0.791461   \n",
              "3 -0.966272 -0.185226  1.792993 -0.863291 -0.010309  1.247203  0.237609   \n",
              "4 -1.158233  0.877737  1.548718  0.403034 -0.407193  0.095921  0.592941   \n",
              "\n",
              "         V8        V9       V10  ...       V21       V22       V23       V24  \\\n",
              "0  0.098698  0.363787  0.090794  ... -0.018307  0.277838 -0.110474  0.066928   \n",
              "1  0.085102 -0.255425 -0.166974  ... -0.225775 -0.638672  0.101288 -0.339846   \n",
              "2  0.247676 -1.514654  0.207643  ...  0.247998  0.771679  0.909412 -0.689281   \n",
              "3  0.377436 -1.387024 -0.054952  ... -0.108300  0.005274 -0.190321 -1.175575   \n",
              "4 -0.270533  0.817739  0.753074  ... -0.009431  0.798278 -0.137458  0.141267   \n",
              "\n",
              "        V25       V26       V27       V28  Amount  Class  \n",
              "0  0.128539 -0.189115  0.133558 -0.021053  149.62      0  \n",
              "1  0.167170  0.125895 -0.008983  0.014724    2.69      0  \n",
              "2 -0.327642 -0.139097 -0.055353 -0.059752  378.66      0  \n",
              "3  0.647376 -0.221929  0.062723  0.061458  123.50      0  \n",
              "4 -0.206010  0.502292  0.219422  0.215153   69.99      0  \n",
              "\n",
              "[5 rows x 30 columns]"
            ],
            "text/html": [
              "\n",
              "  <div id=\"df-a6a48534-2ba7-4b1a-a313-2dedb6a5e6c9\">\n",
              "    <div class=\"colab-df-container\">\n",
              "      <div>\n",
              "<style scoped>\n",
              "    .dataframe tbody tr th:only-of-type {\n",
              "        vertical-align: middle;\n",
              "    }\n",
              "\n",
              "    .dataframe tbody tr th {\n",
              "        vertical-align: top;\n",
              "    }\n",
              "\n",
              "    .dataframe thead th {\n",
              "        text-align: right;\n",
              "    }\n",
              "</style>\n",
              "<table border=\"1\" class=\"dataframe\">\n",
              "  <thead>\n",
              "    <tr style=\"text-align: right;\">\n",
              "      <th></th>\n",
              "      <th>V1</th>\n",
              "      <th>V2</th>\n",
              "      <th>V3</th>\n",
              "      <th>V4</th>\n",
              "      <th>V5</th>\n",
              "      <th>V6</th>\n",
              "      <th>V7</th>\n",
              "      <th>V8</th>\n",
              "      <th>V9</th>\n",
              "      <th>V10</th>\n",
              "      <th>...</th>\n",
              "      <th>V21</th>\n",
              "      <th>V22</th>\n",
              "      <th>V23</th>\n",
              "      <th>V24</th>\n",
              "      <th>V25</th>\n",
              "      <th>V26</th>\n",
              "      <th>V27</th>\n",
              "      <th>V28</th>\n",
              "      <th>Amount</th>\n",
              "      <th>Class</th>\n",
              "    </tr>\n",
              "  </thead>\n",
              "  <tbody>\n",
              "    <tr>\n",
              "      <th>0</th>\n",
              "      <td>-1.359807</td>\n",
              "      <td>-0.072781</td>\n",
              "      <td>2.536347</td>\n",
              "      <td>1.378155</td>\n",
              "      <td>-0.338321</td>\n",
              "      <td>0.462388</td>\n",
              "      <td>0.239599</td>\n",
              "      <td>0.098698</td>\n",
              "      <td>0.363787</td>\n",
              "      <td>0.090794</td>\n",
              "      <td>...</td>\n",
              "      <td>-0.018307</td>\n",
              "      <td>0.277838</td>\n",
              "      <td>-0.110474</td>\n",
              "      <td>0.066928</td>\n",
              "      <td>0.128539</td>\n",
              "      <td>-0.189115</td>\n",
              "      <td>0.133558</td>\n",
              "      <td>-0.021053</td>\n",
              "      <td>149.62</td>\n",
              "      <td>0</td>\n",
              "    </tr>\n",
              "    <tr>\n",
              "      <th>1</th>\n",
              "      <td>1.191857</td>\n",
              "      <td>0.266151</td>\n",
              "      <td>0.166480</td>\n",
              "      <td>0.448154</td>\n",
              "      <td>0.060018</td>\n",
              "      <td>-0.082361</td>\n",
              "      <td>-0.078803</td>\n",
              "      <td>0.085102</td>\n",
              "      <td>-0.255425</td>\n",
              "      <td>-0.166974</td>\n",
              "      <td>...</td>\n",
              "      <td>-0.225775</td>\n",
              "      <td>-0.638672</td>\n",
              "      <td>0.101288</td>\n",
              "      <td>-0.339846</td>\n",
              "      <td>0.167170</td>\n",
              "      <td>0.125895</td>\n",
              "      <td>-0.008983</td>\n",
              "      <td>0.014724</td>\n",
              "      <td>2.69</td>\n",
              "      <td>0</td>\n",
              "    </tr>\n",
              "    <tr>\n",
              "      <th>2</th>\n",
              "      <td>-1.358354</td>\n",
              "      <td>-1.340163</td>\n",
              "      <td>1.773209</td>\n",
              "      <td>0.379780</td>\n",
              "      <td>-0.503198</td>\n",
              "      <td>1.800499</td>\n",
              "      <td>0.791461</td>\n",
              "      <td>0.247676</td>\n",
              "      <td>-1.514654</td>\n",
              "      <td>0.207643</td>\n",
              "      <td>...</td>\n",
              "      <td>0.247998</td>\n",
              "      <td>0.771679</td>\n",
              "      <td>0.909412</td>\n",
              "      <td>-0.689281</td>\n",
              "      <td>-0.327642</td>\n",
              "      <td>-0.139097</td>\n",
              "      <td>-0.055353</td>\n",
              "      <td>-0.059752</td>\n",
              "      <td>378.66</td>\n",
              "      <td>0</td>\n",
              "    </tr>\n",
              "    <tr>\n",
              "      <th>3</th>\n",
              "      <td>-0.966272</td>\n",
              "      <td>-0.185226</td>\n",
              "      <td>1.792993</td>\n",
              "      <td>-0.863291</td>\n",
              "      <td>-0.010309</td>\n",
              "      <td>1.247203</td>\n",
              "      <td>0.237609</td>\n",
              "      <td>0.377436</td>\n",
              "      <td>-1.387024</td>\n",
              "      <td>-0.054952</td>\n",
              "      <td>...</td>\n",
              "      <td>-0.108300</td>\n",
              "      <td>0.005274</td>\n",
              "      <td>-0.190321</td>\n",
              "      <td>-1.175575</td>\n",
              "      <td>0.647376</td>\n",
              "      <td>-0.221929</td>\n",
              "      <td>0.062723</td>\n",
              "      <td>0.061458</td>\n",
              "      <td>123.50</td>\n",
              "      <td>0</td>\n",
              "    </tr>\n",
              "    <tr>\n",
              "      <th>4</th>\n",
              "      <td>-1.158233</td>\n",
              "      <td>0.877737</td>\n",
              "      <td>1.548718</td>\n",
              "      <td>0.403034</td>\n",
              "      <td>-0.407193</td>\n",
              "      <td>0.095921</td>\n",
              "      <td>0.592941</td>\n",
              "      <td>-0.270533</td>\n",
              "      <td>0.817739</td>\n",
              "      <td>0.753074</td>\n",
              "      <td>...</td>\n",
              "      <td>-0.009431</td>\n",
              "      <td>0.798278</td>\n",
              "      <td>-0.137458</td>\n",
              "      <td>0.141267</td>\n",
              "      <td>-0.206010</td>\n",
              "      <td>0.502292</td>\n",
              "      <td>0.219422</td>\n",
              "      <td>0.215153</td>\n",
              "      <td>69.99</td>\n",
              "      <td>0</td>\n",
              "    </tr>\n",
              "  </tbody>\n",
              "</table>\n",
              "<p>5 rows × 30 columns</p>\n",
              "</div>\n",
              "      <button class=\"colab-df-convert\" onclick=\"convertToInteractive('df-a6a48534-2ba7-4b1a-a313-2dedb6a5e6c9')\"\n",
              "              title=\"Convert this dataframe to an interactive table.\"\n",
              "              style=\"display:none;\">\n",
              "        \n",
              "  <svg xmlns=\"http://www.w3.org/2000/svg\" height=\"24px\"viewBox=\"0 0 24 24\"\n",
              "       width=\"24px\">\n",
              "    <path d=\"M0 0h24v24H0V0z\" fill=\"none\"/>\n",
              "    <path d=\"M18.56 5.44l.94 2.06.94-2.06 2.06-.94-2.06-.94-.94-2.06-.94 2.06-2.06.94zm-11 1L8.5 8.5l.94-2.06 2.06-.94-2.06-.94L8.5 2.5l-.94 2.06-2.06.94zm10 10l.94 2.06.94-2.06 2.06-.94-2.06-.94-.94-2.06-.94 2.06-2.06.94z\"/><path d=\"M17.41 7.96l-1.37-1.37c-.4-.4-.92-.59-1.43-.59-.52 0-1.04.2-1.43.59L10.3 9.45l-7.72 7.72c-.78.78-.78 2.05 0 2.83L4 21.41c.39.39.9.59 1.41.59.51 0 1.02-.2 1.41-.59l7.78-7.78 2.81-2.81c.8-.78.8-2.07 0-2.86zM5.41 20L4 18.59l7.72-7.72 1.47 1.35L5.41 20z\"/>\n",
              "  </svg>\n",
              "      </button>\n",
              "      \n",
              "  <style>\n",
              "    .colab-df-container {\n",
              "      display:flex;\n",
              "      flex-wrap:wrap;\n",
              "      gap: 12px;\n",
              "    }\n",
              "\n",
              "    .colab-df-convert {\n",
              "      background-color: #E8F0FE;\n",
              "      border: none;\n",
              "      border-radius: 50%;\n",
              "      cursor: pointer;\n",
              "      display: none;\n",
              "      fill: #1967D2;\n",
              "      height: 32px;\n",
              "      padding: 0 0 0 0;\n",
              "      width: 32px;\n",
              "    }\n",
              "\n",
              "    .colab-df-convert:hover {\n",
              "      background-color: #E2EBFA;\n",
              "      box-shadow: 0px 1px 2px rgba(60, 64, 67, 0.3), 0px 1px 3px 1px rgba(60, 64, 67, 0.15);\n",
              "      fill: #174EA6;\n",
              "    }\n",
              "\n",
              "    [theme=dark] .colab-df-convert {\n",
              "      background-color: #3B4455;\n",
              "      fill: #D2E3FC;\n",
              "    }\n",
              "\n",
              "    [theme=dark] .colab-df-convert:hover {\n",
              "      background-color: #434B5C;\n",
              "      box-shadow: 0px 1px 3px 1px rgba(0, 0, 0, 0.15);\n",
              "      filter: drop-shadow(0px 1px 2px rgba(0, 0, 0, 0.3));\n",
              "      fill: #FFFFFF;\n",
              "    }\n",
              "  </style>\n",
              "\n",
              "      <script>\n",
              "        const buttonEl =\n",
              "          document.querySelector('#df-a6a48534-2ba7-4b1a-a313-2dedb6a5e6c9 button.colab-df-convert');\n",
              "        buttonEl.style.display =\n",
              "          google.colab.kernel.accessAllowed ? 'block' : 'none';\n",
              "\n",
              "        async function convertToInteractive(key) {\n",
              "          const element = document.querySelector('#df-a6a48534-2ba7-4b1a-a313-2dedb6a5e6c9');\n",
              "          const dataTable =\n",
              "            await google.colab.kernel.invokeFunction('convertToInteractive',\n",
              "                                                     [key], {});\n",
              "          if (!dataTable) return;\n",
              "\n",
              "          const docLinkHtml = 'Like what you see? Visit the ' +\n",
              "            '<a target=\"_blank\" href=https://colab.research.google.com/notebooks/data_table.ipynb>data table notebook</a>'\n",
              "            + ' to learn more about interactive tables.';\n",
              "          element.innerHTML = '';\n",
              "          dataTable['output_type'] = 'display_data';\n",
              "          await google.colab.output.renderOutput(dataTable, element);\n",
              "          const docLink = document.createElement('div');\n",
              "          docLink.innerHTML = docLinkHtml;\n",
              "          element.appendChild(docLink);\n",
              "        }\n",
              "      </script>\n",
              "    </div>\n",
              "  </div>\n",
              "  "
            ]
          },
          "metadata": {},
          "execution_count": 6
        }
      ]
    },
    {
      "cell_type": "markdown",
      "source": [
        "### Exploration of Data"
      ],
      "metadata": {
        "id": "CAyDMKw20PEp"
      }
    },
    {
      "cell_type": "code",
      "source": [
        "# Initial exploration of raw data\n",
        "\n",
        "para = df.shape\n",
        "print(\"Number of responses =\",para[0],\"\\n\" + \"Number of features =\",para[1])"
      ],
      "metadata": {
        "colab": {
          "base_uri": "https://localhost:8080/"
        },
        "id": "PHaWCC4o0KCg",
        "outputId": "2757ae37-432e-4c2d-8bce-b0b40fc1098e"
      },
      "execution_count": 7,
      "outputs": [
        {
          "output_type": "stream",
          "name": "stdout",
          "text": [
            "Number of responses = 284807 \n",
            "Number of features = 30\n"
          ]
        }
      ]
    },
    {
      "cell_type": "markdown",
      "source": [
        "#### Visualizing missing data using sns.heatmap\n"
      ],
      "metadata": {
        "id": "MEvWOA9m0Xeg"
      }
    },
    {
      "cell_type": "code",
      "source": [
        "fig, ax = plt.subplots(figsize=(20,15))\n",
        "\n",
        "sns.heatmap(df.isnull(), cmap=\"YlGnBu\", xticklabels = 5,  cbar=False)\n",
        "\n",
        "ax.set_xlabel('Features', Fontsize = 20)\n",
        "ax.set_ylabel('Data entries responses is null? (Y(Blue)/N(Yellow)', Fontsize = 20)\n",
        "ax.set_title('Missing data visualization', Fontsize = 20)"
      ],
      "metadata": {
        "colab": {
          "base_uri": "https://localhost:8080/",
          "height": 925
        },
        "id": "J6P_Tap90Nh7",
        "outputId": "ade32334-6a67-47fa-acc7-21296fa75cf3"
      },
      "execution_count": 8,
      "outputs": [
        {
          "output_type": "execute_result",
          "data": {
            "text/plain": [
              "Text(0.5, 1.0, 'Missing data visualization')"
            ]
          },
          "metadata": {},
          "execution_count": 8
        },
        {
          "output_type": "display_data",
          "data": {
            "text/plain": [
              "<Figure size 1440x1080 with 1 Axes>"
            ],
            "image/png": "[encoded data removed]"
          },
          "metadata": {
            "needs_background": "light"
          }
        }
      ]
    },
    {
      "cell_type": "markdown",
      "source": [
        "Since there are no blue colors, there are no null values."
      ],
      "metadata": {
        "id": "SVZ7JLGv1CMU"
      }
    },
    {
      "cell_type": "code",
      "source": [
        "ax = miss_no.matrix(df,figsize=(20,15))\n",
        "\n",
        "ax.set_xlabel('Features', Fontsize = 20)\n",
        "ax.set_ylabel('Responses', Fontsize = 20)\n",
        "ax.set_title('Missing data visualization', Fontsize = 20)"
      ],
      "metadata": {
        "colab": {
          "base_uri": "https://localhost:8080/",
          "height": 971
        },
        "id": "H07gXryg0cYa",
        "outputId": "0f3509a3-eb29-4ead-9c0f-e5640e8724be"
      },
      "execution_count": 9,
      "outputs": [
        {
          "output_type": "execute_result",
          "data": {
            "text/plain": [
              "Text(0.5, 1.0, 'Missing data visualization')"
            ]
          },
          "metadata": {},
          "execution_count": 9
        },
        {
          "output_type": "display_data",
          "data": {
            "text/plain": [
              "<Figure size 1440x1080 with 2 Axes>"
            ],
            "image/png": "[encoded data removed]"
          },
          "metadata": {
            "needs_background": "light"
          }
        }
      ]
    },
    {
      "cell_type": "markdown",
      "source": [
        "Since there are no broken lines, there are no null values.\n",
        "\n"
      ],
      "metadata": {
        "id": "CqG9Yoy51Ez7"
      }
    },
    {
      "cell_type": "code",
      "source": [
        "# checking missing values in each feature\n",
        "\n",
        "missing_value_count = df.isna().sum().sort_values(ascending=False)\n",
        "print(missing_value_count)"
      ],
      "metadata": {
        "colab": {
          "base_uri": "https://localhost:8080/"
        },
        "id": "KErjNzNL1Ku1",
        "outputId": "04db8c30-5fae-4b77-dd6b-5f83ebf64b5c"
      },
      "execution_count": 10,
      "outputs": [
        {
          "output_type": "stream",
          "name": "stdout",
          "text": [
            "V1        0\n",
            "V2        0\n",
            "Amount    0\n",
            "V28       0\n",
            "V27       0\n",
            "V26       0\n",
            "V25       0\n",
            "V24       0\n",
            "V23       0\n",
            "V22       0\n",
            "V21       0\n",
            "V20       0\n",
            "V19       0\n",
            "V18       0\n",
            "V17       0\n",
            "V16       0\n",
            "V15       0\n",
            "V14       0\n",
            "V13       0\n",
            "V12       0\n",
            "V11       0\n",
            "V10       0\n",
            "V9        0\n",
            "V8        0\n",
            "V7        0\n",
            "V6        0\n",
            "V5        0\n",
            "V4        0\n",
            "V3        0\n",
            "Class     0\n",
            "dtype: int64\n"
          ]
        }
      ]
    },
    {
      "cell_type": "markdown",
      "source": [
        "From this, we can see that no other data cleaning is required."
      ],
      "metadata": {
        "id": "F4apEyTy5VQH"
      }
    },
    {
      "cell_type": "markdown",
      "source": [
        "### Understanding Class\n"
      ],
      "metadata": {
        "id": "xSBVF0sY15XO"
      }
    },
    {
      "cell_type": "markdown",
      "source": [],
      "metadata": {
        "id": "UFFnMP1r2CF1"
      }
    },
    {
      "cell_type": "code",
      "source": [
        "print('Unique values in class column:')\n",
        "for i in df['Class'].unique():\n",
        "  print(i)"
      ],
      "metadata": {
        "colab": {
          "base_uri": "https://localhost:8080/"
        },
        "id": "n99yEA9J2BzN",
        "outputId": "e0965658-fe63-4006-ee07-30769f8658fc"
      },
      "execution_count": 11,
      "outputs": [
        {
          "output_type": "stream",
          "name": "stdout",
          "text": [
            "Unique values in class column:\n",
            "0\n",
            "1\n"
          ]
        }
      ]
    },
    {
      "cell_type": "markdown",
      "source": [
        "## Correlation"
      ],
      "metadata": {
        "id": "hUAoqvbs3ovD"
      }
    },
    {
      "cell_type": "code",
      "source": [
        "# Segregating Features and Target Variables in two different data sets \n",
        "\n",
        "other_text_list = [col for col in df.columns if 'Class' in col]\n",
        "X = df.drop(other_text_list, axis = 1)\n",
        "Y = df[other_text_list[0]]"
      ],
      "metadata": {
        "id": "0r5njAKX5zBd"
      },
      "execution_count": 12,
      "outputs": []
    },
    {
      "cell_type": "code",
      "source": [
        "# Creating a Data set for Correlation Plot\n",
        "clean_data2 = df\n",
        "\n",
        "# Getiing correlations Between features\n",
        "corr_mat = clean_data2.corr()\n",
        "top_corr_features = corr_mat.index\n",
        "plt.figure(figsize=(20,20))\n",
        "\n",
        "# Correlation with output variable\n",
        "corr_target = abs(corr_mat['Class'])\n",
        "\n",
        "# Selecting features which are highly correlated to the target variable\n",
        "relevant_features = corr_target[corr_target > 0.10]\n",
        "print('Number of Features Picked by the Correlation Matrix : ', len(relevant_features))\n",
        "\n",
        "# Ploting heat map\n",
        "g=sns.heatmap(clean_data2[pd.Series(relevant_features.index.values)].corr(),annot=True,fmt='.2f', cmap=\"YlGnBu\")\n",
        "g.set_title(\"Correlation Heatmap of some potential features\", fontsize=30)\n",
        "g.set_xlabel(\"Potential Features\",fontsize=30)\n",
        "g.set_ylabel(\"Potential Features\",fontsize=30)"
      ],
      "metadata": {
        "id": "pVvXVfPG50Ls",
        "colab": {
          "base_uri": "https://localhost:8080/",
          "height": 1000
        },
        "outputId": "fd1c65de-50d1-4faf-f823-ef9c75f89a18"
      },
      "execution_count": 13,
      "outputs": [
        {
          "output_type": "stream",
          "name": "stdout",
          "text": [
            "Number of Features Picked by the Correlation Matrix :  12\n"
          ]
        },
        {
          "output_type": "execute_result",
          "data": {
            "text/plain": [
              "Text(159.0, 0.5, 'Potential Features')"
            ]
          },
          "metadata": {},
          "execution_count": 13
        },
        {
          "output_type": "display_data",
          "data": {
            "text/plain": [
              "<Figure size 1440x1440 with 2 Axes>"
            ],
            "image/png": "[encoded data removed]"
          },
          "metadata": {
            "needs_background": "light"
          }
        }
      ]
    },
    {
      "cell_type": "code",
      "source": [
        "print(relevant_features.index)\n",
        "\n",
        "# Creating a data set for the selected features\n",
        "work_data = clean_data2[pd.Series(relevant_features.index.values)].corr()\n",
        "work_data.head()"
      ],
      "metadata": {
        "id": "SvFy93NB6BtN",
        "colab": {
          "base_uri": "https://localhost:8080/",
          "height": 261
        },
        "outputId": "3f8c1196-150f-47f3-d0ea-37081f1f920e"
      },
      "execution_count": 14,
      "outputs": [
        {
          "output_type": "stream",
          "name": "stdout",
          "text": [
            "Index(['V1', 'V3', 'V4', 'V7', 'V10', 'V11', 'V12', 'V14', 'V16', 'V17', 'V18',\n",
            "       'Class'],\n",
            "      dtype='object')\n"
          ]
        },
        {
          "output_type": "execute_result",
          "data": {
            "text/plain": [
              "               V1            V3            V4            V7           V10  \\\n",
              "V1   1.000000e+00 -1.227819e-15 -9.215150e-16 -1.005191e-15  7.388135e-17   \n",
              "V3  -1.227819e-15  1.000000e+00  4.711293e-16  4.895305e-16  1.156587e-15   \n",
              "V4  -9.215150e-16  4.711293e-16  1.000000e+00 -4.104503e-16  2.232685e-16   \n",
              "V7  -1.005191e-15  4.895305e-16 -4.104503e-16  1.000000e+00 -7.492834e-17   \n",
              "V10  7.388135e-17  1.156587e-15  2.232685e-16 -7.492834e-17  1.000000e+00   \n",
              "\n",
              "              V11           V12           V14           V16           V17  \\\n",
              "V1   2.125498e-16  2.053457e-16 -5.020280e-16  7.212815e-17 -3.879840e-16   \n",
              "V3   1.576830e-15  6.310231e-16  4.739859e-16  8.299445e-16  7.614712e-16   \n",
              "V4   3.459380e-16 -5.625518e-16  2.282280e-16 -9.614528e-16 -2.699612e-16   \n",
              "V7   1.425248e-16 -3.536655e-18  2.607772e-16  5.869302e-17  2.177192e-16   \n",
              "V10 -4.622103e-16  1.771869e-15  2.635936e-16  3.545450e-16  1.542955e-15   \n",
              "\n",
              "              V18     Class  \n",
              "V1   3.230206e-17 -0.101347  \n",
              "V3   1.509897e-16 -0.192961  \n",
              "V4  -5.103644e-16  0.133447  \n",
              "V7   7.604126e-17 -0.187257  \n",
              "V10  3.902423e-16 -0.216883  "
            ],
            "text/html": [
              "\n",
              "  <div id=\"df-6a03569d-a211-4d91-abc5-23b6a7b67b8e\">\n",
              "    <div class=\"colab-df-container\">\n",
              "      <div>\n",
              "<style scoped>\n",
              "    .dataframe tbody tr th:only-of-type {\n",
              "        vertical-align: middle;\n",
              "    }\n",
              "\n",
              "    .dataframe tbody tr th {\n",
              "        vertical-align: top;\n",
              "    }\n",
              "\n",
              "    .dataframe thead th {\n",
              "        text-align: right;\n",
              "    }\n",
              "</style>\n",
              "<table border=\"1\" class=\"dataframe\">\n",
              "  <thead>\n",
              "    <tr style=\"text-align: right;\">\n",
              "      <th></th>\n",
              "      <th>V1</th>\n",
              "      <th>V3</th>\n",
              "      <th>V4</th>\n",
              "      <th>V7</th>\n",
              "      <th>V10</th>\n",
              "      <th>V11</th>\n",
              "      <th>V12</th>\n",
              "      <th>V14</th>\n",
              "      <th>V16</th>\n",
              "      <th>V17</th>\n",
              "      <th>V18</th>\n",
              "      <th>Class</th>\n",
              "    </tr>\n",
              "  </thead>\n",
              "  <tbody>\n",
              "    <tr>\n",
              "      <th>V1</th>\n",
              "      <td>1.000000e+00</td>\n",
              "      <td>-1.227819e-15</td>\n",
              "      <td>-9.215150e-16</td>\n",
              "      <td>-1.005191e-15</td>\n",
              "      <td>7.388135e-17</td>\n",
              "      <td>2.125498e-16</td>\n",
              "      <td>2.053457e-16</td>\n",
              "      <td>-5.020280e-16</td>\n",
              "      <td>7.212815e-17</td>\n",
              "      <td>-3.879840e-16</td>\n",
              "      <td>3.230206e-17</td>\n",
              "      <td>-0.101347</td>\n",
              "    </tr>\n",
              "    <tr>\n",
              "      <th>V3</th>\n",
              "      <td>-1.227819e-15</td>\n",
              "      <td>1.000000e+00</td>\n",
              "      <td>4.711293e-16</td>\n",
              "      <td>4.895305e-16</td>\n",
              "      <td>1.156587e-15</td>\n",
              "      <td>1.576830e-15</td>\n",
              "      <td>6.310231e-16</td>\n",
              "      <td>4.739859e-16</td>\n",
              "      <td>8.299445e-16</td>\n",
              "      <td>7.614712e-16</td>\n",
              "      <td>1.509897e-16</td>\n",
              "      <td>-0.192961</td>\n",
              "    </tr>\n",
              "    <tr>\n",
              "      <th>V4</th>\n",
              "      <td>-9.215150e-16</td>\n",
              "      <td>4.711293e-16</td>\n",
              "      <td>1.000000e+00</td>\n",
              "      <td>-4.104503e-16</td>\n",
              "      <td>2.232685e-16</td>\n",
              "      <td>3.459380e-16</td>\n",
              "      <td>-5.625518e-16</td>\n",
              "      <td>2.282280e-16</td>\n",
              "      <td>-9.614528e-16</td>\n",
              "      <td>-2.699612e-16</td>\n",
              "      <td>-5.103644e-16</td>\n",
              "      <td>0.133447</td>\n",
              "    </tr>\n",
              "    <tr>\n",
              "      <th>V7</th>\n",
              "      <td>-1.005191e-15</td>\n",
              "      <td>4.895305e-16</td>\n",
              "      <td>-4.104503e-16</td>\n",
              "      <td>1.000000e+00</td>\n",
              "      <td>-7.492834e-17</td>\n",
              "      <td>1.425248e-16</td>\n",
              "      <td>-3.536655e-18</td>\n",
              "      <td>2.607772e-16</td>\n",
              "      <td>5.869302e-17</td>\n",
              "      <td>2.177192e-16</td>\n",
              "      <td>7.604126e-17</td>\n",
              "      <td>-0.187257</td>\n",
              "    </tr>\n",
              "    <tr>\n",
              "      <th>V10</th>\n",
              "      <td>7.388135e-17</td>\n",
              "      <td>1.156587e-15</td>\n",
              "      <td>2.232685e-16</td>\n",
              "      <td>-7.492834e-17</td>\n",
              "      <td>1.000000e+00</td>\n",
              "      <td>-4.622103e-16</td>\n",
              "      <td>1.771869e-15</td>\n",
              "      <td>2.635936e-16</td>\n",
              "      <td>3.545450e-16</td>\n",
              "      <td>1.542955e-15</td>\n",
              "      <td>3.902423e-16</td>\n",
              "      <td>-0.216883</td>\n",
              "    </tr>\n",
              "  </tbody>\n",
              "</table>\n",
              "</div>\n",
              "      <button class=\"colab-df-convert\" onclick=\"convertToInteractive('df-6a03569d-a211-4d91-abc5-23b6a7b67b8e')\"\n",
              "              title=\"Convert this dataframe to an interactive table.\"\n",
              "              style=\"display:none;\">\n",
              "        \n",
              "  <svg xmlns=\"http://www.w3.org/2000/svg\" height=\"24px\"viewBox=\"0 0 24 24\"\n",
              "       width=\"24px\">\n",
              "    <path d=\"M0 0h24v24H0V0z\" fill=\"none\"/>\n",
              "    <path d=\"M18.56 5.44l.94 2.06.94-2.06 2.06-.94-2.06-.94-.94-2.06-.94 2.06-2.06.94zm-11 1L8.5 8.5l.94-2.06 2.06-.94-2.06-.94L8.5 2.5l-.94 2.06-2.06.94zm10 10l.94 2.06.94-2.06 2.06-.94-2.06-.94-.94-2.06-.94 2.06-2.06.94z\"/><path d=\"M17.41 7.96l-1.37-1.37c-.4-.4-.92-.59-1.43-.59-.52 0-1.04.2-1.43.59L10.3 9.45l-7.72 7.72c-.78.78-.78 2.05 0 2.83L4 21.41c.39.39.9.59 1.41.59.51 0 1.02-.2 1.41-.59l7.78-7.78 2.81-2.81c.8-.78.8-2.07 0-2.86zM5.41 20L4 18.59l7.72-7.72 1.47 1.35L5.41 20z\"/>\n",
              "  </svg>\n",
              "      </button>\n",
              "      \n",
              "  <style>\n",
              "    .colab-df-container {\n",
              "      display:flex;\n",
              "      flex-wrap:wrap;\n",
              "      gap: 12px;\n",
              "    }\n",
              "\n",
              "    .colab-df-convert {\n",
              "      background-color: #E8F0FE;\n",
              "      border: none;\n",
              "      border-radius: 50%;\n",
              "      cursor: pointer;\n",
              "      display: none;\n",
              "      fill: #1967D2;\n",
              "      height: 32px;\n",
              "      padding: 0 0 0 0;\n",
              "      width: 32px;\n",
              "    }\n",
              "\n",
              "    .colab-df-convert:hover {\n",
              "      background-color: #E2EBFA;\n",
              "      box-shadow: 0px 1px 2px rgba(60, 64, 67, 0.3), 0px 1px 3px 1px rgba(60, 64, 67, 0.15);\n",
              "      fill: #174EA6;\n",
              "    }\n",
              "\n",
              "    [theme=dark] .colab-df-convert {\n",
              "      background-color: #3B4455;\n",
              "      fill: #D2E3FC;\n",
              "    }\n",
              "\n",
              "    [theme=dark] .colab-df-convert:hover {\n",
              "      background-color: #434B5C;\n",
              "      box-shadow: 0px 1px 3px 1px rgba(0, 0, 0, 0.15);\n",
              "      filter: drop-shadow(0px 1px 2px rgba(0, 0, 0, 0.3));\n",
              "      fill: #FFFFFF;\n",
              "    }\n",
              "  </style>\n",
              "\n",
              "      <script>\n",
              "        const buttonEl =\n",
              "          document.querySelector('#df-6a03569d-a211-4d91-abc5-23b6a7b67b8e button.colab-df-convert');\n",
              "        buttonEl.style.display =\n",
              "          google.colab.kernel.accessAllowed ? 'block' : 'none';\n",
              "\n",
              "        async function convertToInteractive(key) {\n",
              "          const element = document.querySelector('#df-6a03569d-a211-4d91-abc5-23b6a7b67b8e');\n",
              "          const dataTable =\n",
              "            await google.colab.kernel.invokeFunction('convertToInteractive',\n",
              "                                                     [key], {});\n",
              "          if (!dataTable) return;\n",
              "\n",
              "          const docLinkHtml = 'Like what you see? Visit the ' +\n",
              "            '<a target=\"_blank\" href=https://colab.research.google.com/notebooks/data_table.ipynb>data table notebook</a>'\n",
              "            + ' to learn more about interactive tables.';\n",
              "          element.innerHTML = '';\n",
              "          dataTable['output_type'] = 'display_data';\n",
              "          await google.colab.output.renderOutput(dataTable, element);\n",
              "          const docLink = document.createElement('div');\n",
              "          docLink.innerHTML = docLinkHtml;\n",
              "          element.appendChild(docLink);\n",
              "        }\n",
              "      </script>\n",
              "    </div>\n",
              "  </div>\n",
              "  "
            ]
          },
          "metadata": {},
          "execution_count": 14
        }
      ]
    },
    {
      "cell_type": "code",
      "source": [
        "# Removing features which are highly correlated to each other\n",
        "\n",
        "redundant_cols = []\n",
        "for i in range(0,len(relevant_features)):\n",
        "    df2 = pd.DataFrame(work_data.iloc[i,:])<0.7\n",
        "    df2.iloc[i,0] = True\n",
        "    rows = list((df[(df.iloc[:,0] == False)].index).values)\n",
        "    if len(rows) > 0:\n",
        "        redundant_cols += rows\n",
        "print(\"The following features are highly correlated to each other: \\n\" + str(redundant_cols) + \"\\n\")"
      ],
      "metadata": {
        "id": "wmNqrgUu6m2V",
        "colab": {
          "base_uri": "https://localhost:8080/"
        },
        "outputId": "ca04d0ca-20d9-4095-a83a-942c805ceddc"
      },
      "execution_count": 15,
      "outputs": [
        {
          "output_type": "stream",
          "name": "stdout",
          "text": [
            "The following features are highly correlated to each other: \n",
            "[]\n",
            "\n"
          ]
        }
      ]
    },
    {
      "cell_type": "code",
      "source": [
        "relevant_features.drop(redundant_cols[1:],axis=0,inplace=True)\n",
        "print('Number of Relevant Features left after delecting the highly correlated features : ', len(relevant_features))"
      ],
      "metadata": {
        "id": "2oTZFyXq6lvd",
        "colab": {
          "base_uri": "https://localhost:8080/"
        },
        "outputId": "7e3b982d-ee66-4dfb-a1d9-1deeca1ba1d3"
      },
      "execution_count": 16,
      "outputs": [
        {
          "output_type": "stream",
          "name": "stdout",
          "text": [
            "Number of Relevant Features left after delecting the highly correlated features :  12\n"
          ]
        }
      ]
    },
    {
      "cell_type": "code",
      "source": [
        "randomforestselect = SelectFromModel(RandomForestClassifier(n_estimators = 100))\n",
        "randomforestselect.fit(X, Y)"
      ],
      "metadata": {
        "id": "0sSjH6b26kiW",
        "colab": {
          "base_uri": "https://localhost:8080/"
        },
        "outputId": "36f05d93-da3f-48e7-f990-e11e71265deb"
      },
      "execution_count": 17,
      "outputs": [
        {
          "output_type": "execute_result",
          "data": {
            "text/plain": [
              "SelectFromModel(estimator=RandomForestClassifier())"
            ]
          },
          "metadata": {},
          "execution_count": 17
        }
      ]
    },
    {
      "cell_type": "code",
      "source": [
        "randomf_selected_feat = X.columns[(randomforestselect.get_support())]\n",
        "print('The number of selected features by random forest : ', len(randomf_selected_feat), \"\\n\")\n",
        "print(\"The selected fetures are as follows :\" , \"\\n\\n\" , randomf_selected_feat)"
      ],
      "metadata": {
        "id": "_VWa2gtXGnEh",
        "colab": {
          "base_uri": "https://localhost:8080/"
        },
        "outputId": "cf45dd4a-4d32-4c7a-c569-ab1111c6a53a"
      },
      "execution_count": 18,
      "outputs": [
        {
          "output_type": "stream",
          "name": "stdout",
          "text": [
            "The number of selected features by random forest :  8 \n",
            "\n",
            "The selected fetures are as follows : \n",
            "\n",
            " Index(['V9', 'V10', 'V11', 'V12', 'V14', 'V16', 'V17', 'V18'], dtype='object')\n"
          ]
        }
      ]
    },
    {
      "cell_type": "code",
      "source": [
        "col_feat = X.columns\n",
        "\n",
        "# Initializing the Lasso variable and fitting it with feature and target variable.\n",
        "model_lasso = Lasso(alpha = 0.01, random_state=5).fit(X,Y)\n",
        "\n",
        "# Using .coef_ attribute to give a correlation between the features\n",
        "coef_b = pd.Series(model_lasso.coef_, index = X.columns)\n",
        "\n",
        "# Deleting the features whose correlation value is 0\n",
        "print(\"\\nLasso picked \" + str(sum(coef_b != 0)) + \" variables and eliminated the other \" +  str(sum(coef_b == 0)) + \" variables\\n\")\n",
        "\n",
        "# Initializing SelectFromModel to easily select the features from our Lasso Model\n",
        "sfm_b = SelectFromModel(model_lasso)\n",
        "\n",
        "# Training the selector\n",
        "sfm_b.fit(X,Y)\n",
        "\n",
        "# Printing the names of the most important features\n",
        "print(\"The names of the selected important features are as follows : \" + \"\\n\")\n",
        "for feature_list_index in sfm_b.get_support(indices=True):\n",
        "    print(col_feat[feature_list_index])\n",
        "\n",
        "# New feature data with selected features\n",
        "feature_data_selected = X[X.columns[(sfm_b.get_support())]]"
      ],
      "metadata": {
        "id": "VeC4-NEa7IuM",
        "colab": {
          "base_uri": "https://localhost:8080/"
        },
        "outputId": "413fa2a5-d2a5-46f4-defc-48e4d9c83b76"
      },
      "execution_count": 19,
      "outputs": [
        {
          "output_type": "stream",
          "name": "stdout",
          "text": [
            "\n",
            "Lasso picked 4 variables and eliminated the other 25 variables\n",
            "\n",
            "The names of the selected important features are as follows : \n",
            "\n",
            "V3\n",
            "V12\n",
            "V14\n",
            "V17\n"
          ]
        }
      ]
    },
    {
      "cell_type": "code",
      "source": [
        "# Converting the selected features to sets\n",
        "\n",
        "corr_set=set(relevant_features)\n",
        "print(\"The number of selected features by the \\\"Correlation Plot\\\" Technique : \" + str(len(corr_set)))\n",
        "rand_for_set=set(randomf_selected_feat)\n",
        "print(\"The number of selected features by the \\\"Random Forest\\\" Technique : \" + str(len(rand_for_set)))\n",
        "lasso_set=set(feature_data_selected)\n",
        "print(\"The number of selected features by the \\\"Lasso Regression\\\" Technique : \" + str(len(lasso_set)))"
      ],
      "metadata": {
        "id": "K6w5zFpXG7lu",
        "colab": {
          "base_uri": "https://localhost:8080/"
        },
        "outputId": "16289200-03a5-44ad-b58b-d2e9a54cfa76"
      },
      "execution_count": 20,
      "outputs": [
        {
          "output_type": "stream",
          "name": "stdout",
          "text": [
            "The number of selected features by the \"Correlation Plot\" Technique : 12\n",
            "The number of selected features by the \"Random Forest\" Technique : 8\n",
            "The number of selected features by the \"Lasso Regression\" Technique : 4\n"
          ]
        }
      ]
    },
    {
      "cell_type": "code",
      "source": [
        "print(\"Number of common selected features by the \\\"Correlation Plot\\\" Technique and the \\\"Random Forest\\\" Technique : \" + str(len(rand_for_set.intersection(corr_set))))\n",
        "print(\"Number of common selected features by the \\\"Correlation Plot\\\" Technique and the \\\"Lasso Regression\\\" Technique : \" + str(len(lasso_set.intersection(corr_set))))\n",
        "print(\"Number of common selected features by the \\\"Lasso Regression\\\" Technique and the \\\"Random Forest\\\" Technique : \" + str(len(rand_for_set.intersection(lasso_set))))"
      ],
      "metadata": {
        "id": "f0iThHhFHEsW",
        "colab": {
          "base_uri": "https://localhost:8080/"
        },
        "outputId": "571c6b81-ae08-4e88-9d01-b37cc473c28b"
      },
      "execution_count": 21,
      "outputs": [
        {
          "output_type": "stream",
          "name": "stdout",
          "text": [
            "Number of common selected features by the \"Correlation Plot\" Technique and the \"Random Forest\" Technique : 0\n",
            "Number of common selected features by the \"Correlation Plot\" Technique and the \"Lasso Regression\" Technique : 0\n",
            "Number of common selected features by the \"Lasso Regression\" Technique and the \"Random Forest\" Technique : 3\n"
          ]
        }
      ]
    },
    {
      "cell_type": "code",
      "source": [
        "print(relevant_features)\n",
        "print(df.columns)"
      ],
      "metadata": {
        "colab": {
          "base_uri": "https://localhost:8080/"
        },
        "id": "VeJzaocdBmHU",
        "outputId": "91ac95e8-6bd1-41dd-e07f-383c5f950297"
      },
      "execution_count": 22,
      "outputs": [
        {
          "output_type": "stream",
          "name": "stdout",
          "text": [
            "V1       0.101347\n",
            "V3       0.192961\n",
            "V4       0.133447\n",
            "V7       0.187257\n",
            "V10      0.216883\n",
            "V11      0.154876\n",
            "V12      0.260593\n",
            "V14      0.302544\n",
            "V16      0.196539\n",
            "V17      0.326481\n",
            "V18      0.111485\n",
            "Class    1.000000\n",
            "Name: Class, dtype: float64\n",
            "Index(['V1', 'V2', 'V3', 'V4', 'V5', 'V6', 'V7', 'V8', 'V9', 'V10', 'V11',\n",
            "       'V12', 'V13', 'V14', 'V15', 'V16', 'V17', 'V18', 'V19', 'V20', 'V21',\n",
            "       'V22', 'V23', 'V24', 'V25', 'V26', 'V27', 'V28', 'Amount', 'Class'],\n",
            "      dtype='object')\n"
          ]
        }
      ]
    },
    {
      "cell_type": "code",
      "source": [
        "relevant_features = list(relevant_features.to_frame().index.values)\n",
        "randomf_selected_feat = list(randomf_selected_feat.values)\n",
        "feature_data_selected = list(feature_data_selected.columns)\n",
        "\n",
        "# Creating the data sets\n",
        "df_corr=df[relevant_features]\n",
        "df_rand=df[randomf_selected_feat]\n",
        "df_lasso=df[feature_data_selected]\n",
        "\n",
        "# Convering to Excel Sheets\n",
        "# df_corr.to_excel(\"df_corr.xlsx\", sheet_name='Correlation Plot')\n",
        "# df_rand.to_excel(\"df_rand.xlsx\", sheet_name='Random Forest')\n",
        "# df_lasso.to_excel(\"df_lasso.xlsx\", sheet_name='Lasso Regression')"
      ],
      "metadata": {
        "id": "dPy5bwRMHWx2"
      },
      "execution_count": 23,
      "outputs": []
    },
    {
      "cell_type": "code",
      "source": [
        "# Dimensionality Reduction for the selected features from the Correlation Plot\n",
        "\n",
        "pca = PCA(n_components=0.99,random_state=0)\n",
        "pca_fit_corr = pd.DataFrame(pca.fit_transform(df_corr))\n",
        "print(pca_fit_corr.shape)"
      ],
      "metadata": {
        "id": "m1OBeKsFMRkm",
        "colab": {
          "base_uri": "https://localhost:8080/"
        },
        "outputId": "82ddc7a9-005d-4fb4-e6b6-ec03e9d81fb2"
      },
      "execution_count": 24,
      "outputs": [
        {
          "output_type": "stream",
          "name": "stdout",
          "text": [
            "(284807, 11)\n"
          ]
        }
      ]
    },
    {
      "cell_type": "code",
      "source": [
        "# plotting explained variance vs. number of components\n",
        "\n",
        "plt.plot(np.cumsum(pca.explained_variance_ratio_))\n",
        "plt.xlabel('Number of Components')\n",
        "plt.ylabel('Cumulative Explained Variance Ratio')\n",
        "\n",
        "print('Cumunlative explained variance is = ', np.cumsum(pca.explained_variance_ratio_)[-1]*100, '%')"
      ],
      "metadata": {
        "id": "fMhXAPXuMf8f",
        "colab": {
          "base_uri": "https://localhost:8080/",
          "height": 297
        },
        "outputId": "418acd44-e673-4db8-e50f-c07e0bb9dfbc"
      },
      "execution_count": 25,
      "outputs": [
        {
          "output_type": "stream",
          "name": "stdout",
          "text": [
            "Cumunlative explained variance is =  99.9944946239565 %\n"
          ]
        },
        {
          "output_type": "display_data",
          "data": {
            "text/plain": [
              "<Figure size 432x288 with 1 Axes>"
            ],
            "image/png": "[encoded data removed]"
          },
          "metadata": {
            "needs_background": "light"
          }
        }
      ]
    },
    {
      "cell_type": "code",
      "source": [
        "# Dimensionality Reduction for the selected features from the Random Forest\n",
        "\n",
        "pca = PCA(n_components=0.99,random_state=0)\n",
        "pca_fit_rand = pd.DataFrame(pca.fit_transform(df_rand))\n",
        "print(pca_fit_rand.shape)"
      ],
      "metadata": {
        "id": "QxP0pNHLM1US",
        "colab": {
          "base_uri": "https://localhost:8080/"
        },
        "outputId": "4c618013-c535-4048-ce64-ed5e00995b6b"
      },
      "execution_count": 26,
      "outputs": [
        {
          "output_type": "stream",
          "name": "stdout",
          "text": [
            "(284807, 8)\n"
          ]
        }
      ]
    },
    {
      "cell_type": "code",
      "source": [
        "# plotting explained variance vs number of components\n",
        "\n",
        "plt.plot(np.cumsum(pca.explained_variance_ratio_))\n",
        "plt.xlabel('Number of Components')\n",
        "plt.ylabel('Cumulative Explained Variance Ratio')\n",
        "\n",
        "print('Cumunlative explained variance is = ', np.cumsum(pca.explained_variance_ratio_)[-1]*100, '%')"
      ],
      "metadata": {
        "id": "brBtL6fFMkHp",
        "colab": {
          "base_uri": "https://localhost:8080/",
          "height": 297
        },
        "outputId": "a4e99388-987a-4682-edf3-1764c2d45ec6"
      },
      "execution_count": 27,
      "outputs": [
        {
          "output_type": "stream",
          "name": "stdout",
          "text": [
            "Cumunlative explained variance is =  100.0 %\n"
          ]
        },
        {
          "output_type": "display_data",
          "data": {
            "text/plain": [
              "<Figure size 432x288 with 1 Axes>"
            ],
            "image/png": "[encoded data removed]"
          },
          "metadata": {
            "needs_background": "light"
          }
        }
      ]
    },
    {
      "cell_type": "code",
      "source": [
        "# Dimensionality Reduction for the selected features from the Lasso Regression\n",
        "\n",
        "pca = PCA(n_components=0.99,random_state=0)\n",
        "pca_fit_lasso = pd.DataFrame(pca.fit_transform(df_lasso))\n",
        "print(pca_fit_lasso.shape)"
      ],
      "metadata": {
        "id": "Ns17YjhSM5Kj",
        "colab": {
          "base_uri": "https://localhost:8080/"
        },
        "outputId": "41137998-b724-4807-9fe7-9b51ffa170e8"
      },
      "execution_count": 28,
      "outputs": [
        {
          "output_type": "stream",
          "name": "stdout",
          "text": [
            "(284807, 4)\n"
          ]
        }
      ]
    },
    {
      "cell_type": "code",
      "source": [
        "# plotting explained variance vs number of components\n",
        "\n",
        "plt.plot(np.cumsum(pca.explained_variance_ratio_))\n",
        "plt.xlabel('Number of Components')\n",
        "plt.ylabel('Cumulative Explained Variance Ratio')\n",
        "\n",
        "print('Cumunlative explained variance is = ', np.cumsum(pca.explained_variance_ratio_)[-1]*100, '%')"
      ],
      "metadata": {
        "id": "q0QDX9kbM8_4",
        "colab": {
          "base_uri": "https://localhost:8080/",
          "height": 297
        },
        "outputId": "aa30d439-7ee0-407d-e354-a0ac790eb116"
      },
      "execution_count": 29,
      "outputs": [
        {
          "output_type": "stream",
          "name": "stdout",
          "text": [
            "Cumunlative explained variance is =  100.0 %\n"
          ]
        },
        {
          "output_type": "display_data",
          "data": {
            "text/plain": [
              "<Figure size 432x288 with 1 Axes>"
            ],
            "image/png": "[encoded data removed]"
          },
          "metadata": {
            "needs_background": "light"
          }
        }
      ]
    },
    {
      "cell_type": "markdown",
      "source": [
        "### Training and Testing a Model:"
      ],
      "metadata": {
        "id": "e8vJmGSd8D62"
      }
    },
    {
      "cell_type": "markdown",
      "source": [
        "Testing the fraud-detection model:"
      ],
      "metadata": {
        "id": "l2RcOr1g7s4T"
      }
    },
    {
      "cell_type": "code",
      "source": [
        "# Splitting the data into training and testing data - 30% testing and 70% training \n",
        "# Stratify parameter makes a split so that the proportion of values in the sample produced will be the same as the proportion of values provided to parameter stratify\n",
        "\n",
        "X_train_corr, X_test_corr, Y_train_corr, Y_test_corr = train_test_split(pca_fit_corr,Y,test_size=0.3, random_state=101, stratify=Y)"
      ],
      "metadata": {
        "id": "mJT82mDMNJ6i"
      },
      "execution_count": 30,
      "outputs": []
    },
    {
      "cell_type": "code",
      "source": [
        "# Model Implementation\n",
        "\n",
        "model = LogisticRegression(multi_class='ovr', C=1.0, penalty='l2', solver='lbfgs')\n",
        "model.fit(X_train_corr, Y_train_corr)\n",
        "train_output = model.predict(X_train_corr)\n",
        "train_accuracy = accuracy_score(Y_train_corr, train_output)\n",
        "print(\"The train accuracy achieved : \",(train_accuracy))"
      ],
      "metadata": {
        "id": "bZ5iYYeZNfSA",
        "colab": {
          "base_uri": "https://localhost:8080/"
        },
        "outputId": "2ab099d7-b41a-4b47-e820-6a91cbade7b0"
      },
      "execution_count": 31,
      "outputs": [
        {
          "output_type": "stream",
          "name": "stdout",
          "text": [
            "The train accuracy achieved :  0.9991573202784856\n"
          ]
        }
      ]
    },
    {
      "cell_type": "code",
      "source": [
        "test_output = model.predict(X_test_corr)\n",
        "test_accuracy = accuracy_score(Y_test_corr, test_output)\n",
        "print(\"The test accuracy achieved : \",(test_accuracy))"
      ],
      "metadata": {
        "id": "OH4_LzUxNjOo",
        "colab": {
          "base_uri": "https://localhost:8080/"
        },
        "outputId": "1db8ca69-1aa7-4612-b2e5-df1d0a439467"
      },
      "execution_count": 32,
      "outputs": [
        {
          "output_type": "stream",
          "name": "stdout",
          "text": [
            "The test accuracy achieved :  0.9991807403766253\n"
          ]
        }
      ]
    },
    {
      "cell_type": "code",
      "source": [
        "train_accuracy_list = []\n",
        "test_accuracy_list = []\n",
        "X = np.array(X_train_corr)\n",
        "y = np.array(Y_train_corr)\n",
        "kf = KFold(n_splits=10)\n",
        "kf.get_n_splits(X)\n",
        "\n",
        "num_fold=1\n",
        "for train_index, test_index in kf.split(X):\n",
        "     \n",
        "    X_train, X_test = X[train_index], X[test_index]\n",
        "    y_train, y_test = y[train_index], y[test_index]\n",
        "    model = LogisticRegression(multi_class='ovr', C=1.0, penalty='l2', solver='lbfgs')\n",
        "    model.fit(X_train, y_train)\n",
        "    train_output = model.predict(X_train)\n",
        "    train_accuracy = accuracy_score(y_train, train_output)\n",
        "    train_accuracy_list.append(train_accuracy)\n",
        "    test_output = model.predict(X_test)\n",
        "    test_accuracy = accuracy_score(y_test, test_output)\n",
        "    test_accuracy_list.append(test_accuracy)\n",
        "    print(\"\\nTrain accuracy achieved at fold {} : {}\".format(num_fold, train_accuracy))\n",
        "    print(\"Test accuracy achieved at fold {} : {}\".format(num_fold, test_accuracy))\n",
        "    \n",
        "    num_fold+=1"
      ],
      "metadata": {
        "id": "FyIQtRJxNwcr",
        "colab": {
          "base_uri": "https://localhost:8080/"
        },
        "outputId": "adb65cf1-d1f5-4cf2-a4b3-1a36185ebdd4"
      },
      "execution_count": 33,
      "outputs": [
        {
          "output_type": "stream",
          "name": "stdout",
          "text": [
            "\n",
            "Train accuracy achieved at fold 1 : 0.9991974452005551\n",
            "Test accuracy achieved at fold 1 : 0.9987962080553744\n",
            "\n",
            "Train accuracy achieved at fold 2 : 0.9991249923367164\n",
            "Test accuracy achieved at fold 2 : 0.9992977880323017\n",
            "\n",
            "Train accuracy achieved at fold 3 : 0.9991305656339347\n",
            "Test accuracy achieved at fold 3 : 0.99944826202538\n",
            "\n",
            "Train accuracy achieved at fold 4 : 0.9991918719033367\n",
            "Test accuracy achieved at fold 4 : 0.9991974720369163\n",
            "\n",
            "Train accuracy achieved at fold 5 : 0.9991417170118376\n",
            "Test accuracy achieved at fold 5 : 0.9993479133226324\n",
            "\n",
            "Train accuracy achieved at fold 6 : 0.9991528635441514\n",
            "Test accuracy achieved at fold 6 : 0.9989967897271268\n",
            "\n",
            "Train accuracy achieved at fold 7 : 0.9991082774148963\n",
            "Test accuracy achieved at fold 7 : 0.9993980738362761\n",
            "\n",
            "Train accuracy achieved at fold 8 : 0.9991417170118376\n",
            "Test accuracy achieved at fold 8 : 0.9992475922953451\n",
            "\n",
            "Train accuracy achieved at fold 9 : 0.9991640100764652\n",
            "Test accuracy achieved at fold 9 : 0.9988964686998395\n",
            "\n",
            "Train accuracy achieved at fold 10 : 0.999230889270348\n",
            "Test accuracy achieved at fold 10 : 0.9988964686998395\n"
          ]
        }
      ]
    },
    {
      "cell_type": "code",
      "source": [
        "# Calculating the average and the variance of the achieved accuracies\n",
        "\n",
        "avg_train_accuracy = np.mean(np.array(train_accuracy_list))\n",
        "avg_test_accuracy = np.mean(np.array(test_accuracy_list))\n",
        "var_train_accuracy = np.var(np.array(train_accuracy_list))\n",
        "var_test_accuracy = np.var(np.array(test_accuracy_list))\n",
        "\n",
        "print(\"The Average Train Accuracy achieved is : \", avg_train_accuracy)\n",
        "print(\"The Average Test Accuracy achieved is : \", avg_test_accuracy)\n",
        "print(\"\\nThe Variance of Train Accuracy achieved is : \", var_train_accuracy)\n",
        "print(\"The Variance of Test Accuracy achieved is : \", var_test_accuracy)"
      ],
      "metadata": {
        "id": "6LkmCicdH72p",
        "colab": {
          "base_uri": "https://localhost:8080/"
        },
        "outputId": "f91b9281-1962-4347-a571-2057ffe6eeb2"
      },
      "execution_count": 34,
      "outputs": [
        {
          "output_type": "stream",
          "name": "stdout",
          "text": [
            "The Average Train Accuracy achieved is :  0.9991584349404079\n",
            "The Average Test Accuracy achieved is :  0.9991523036731034\n",
            "\n",
            "The Variance of Train Accuracy achieved is :  1.2921445033801557e-09\n",
            "The Variance of Test Accuracy achieved is :  5.0043499921555234e-08\n"
          ]
        }
      ]
    },
    {
      "cell_type": "markdown",
      "source": [
        "# Test"
      ],
      "metadata": {
        "id": "hevCEIe3a5gF"
      }
    },
    {
      "cell_type": "code",
      "source": [
        "# Function to compute confusion matrix\n",
        "def conf_mat(y_test, y_pred):\n",
        "    \"\"\"\n",
        "    Computes confusion matrix\n",
        "    Args:\n",
        "      y_test (array_like): true binary (0 or 1) labels\n",
        "      y_pred (array_like): predicted binary (0 or 1) labels\n",
        "    Returns:\n",
        "      confusion_mat (array): A 2D array representing a 2x2 confusion matrix\n",
        "    \"\"\"\n",
        "    y_test, y_pred = list(y_test), list(y_pred)\n",
        "    count, labels, confusion_mat = len(y_test), [0, 1], np.zeros(shape = (2, 2), dtype = int)\n",
        "    for i in range(2):\n",
        "        for j in range(2):\n",
        "            confusion_mat[i][j] = len([k for k in range(count) if y_test[k] == labels[i] and y_pred[k] == labels[j]])\n",
        "    return confusion_mat"
      ],
      "metadata": {
        "id": "z00omTuWQ2eB"
      },
      "execution_count": 35,
      "outputs": []
    },
    {
      "cell_type": "code",
      "source": [
        "confusion_mat = conf_mat(y_test, test_output)\n",
        "tn, fp, fn, tp = confusion_mat[0, 0], confusion_mat[0, 1], confusion_mat[1, 0], confusion_mat[1, 1]"
      ],
      "metadata": {
        "id": "Fv9S5zhSQrHW"
      },
      "execution_count": 36,
      "outputs": []
    },
    {
      "cell_type": "code",
      "source": [
        "print(pd.Series({\n",
        "        \"Accuracy\": (tp + tn) / (tn + fp + fn + tp),\n",
        "        \"Precision\": tp / (tp + fp),\n",
        "        \"Recall\": tp / (tp + fn),\n",
        "        \"F1-score\": (2 * tp) / ((2 * tp) + fn + fp),\n",
        "        \"F2-score\": (5 * tp) / ((5 * tp) + (4 * fn) + fp),\n",
        "        \"MCC\": ((tp * tn) - (fp * fn)) / np.sqrt((tp + fp) * (tp + fn) * (tn + fp) * (tn + fn))\n",
        "  }).to_string())"
      ],
      "metadata": {
        "colab": {
          "base_uri": "https://localhost:8080/"
        },
        "id": "WkW1K-FxRDFt",
        "outputId": "373cc7e6-76e9-4cfd-a86d-8602e2c6c054"
      },
      "execution_count": 37,
      "outputs": [
        {
          "output_type": "stream",
          "name": "stdout",
          "text": [
            "Accuracy     0.998896\n",
            "Precision    0.800000\n",
            "Recall       0.600000\n",
            "F1-score     0.685714\n",
            "F2-score     0.631579\n",
            "MCC          0.692298\n"
          ]
        }
      ]
    },
    {
      "cell_type": "code",
      "source": [
        "print(tp)"
      ],
      "metadata": {
        "colab": {
          "base_uri": "https://localhost:8080/"
        },
        "id": "ZgUEU6EHRF3y",
        "outputId": "b44271d9-f14b-442e-bb7d-329fb28743b4"
      },
      "execution_count": 38,
      "outputs": [
        {
          "output_type": "stream",
          "name": "stdout",
          "text": [
            "24\n"
          ]
        }
      ]
    },
    {
      "cell_type": "code",
      "source": [
        "print(tn)"
      ],
      "metadata": {
        "colab": {
          "base_uri": "https://localhost:8080/"
        },
        "id": "1lSkHkmZRH4h",
        "outputId": "fa1d2d89-7aa3-48a8-f73e-1f0d55630c26"
      },
      "execution_count": 39,
      "outputs": [
        {
          "output_type": "stream",
          "name": "stdout",
          "text": [
            "19890\n"
          ]
        }
      ]
    },
    {
      "cell_type": "code",
      "source": [
        "print(fp)"
      ],
      "metadata": {
        "colab": {
          "base_uri": "https://localhost:8080/"
        },
        "id": "vHyUzJUxRJi3",
        "outputId": "d1bdda21-937f-45b4-9bd4-aaef3bd696b7"
      },
      "execution_count": 40,
      "outputs": [
        {
          "output_type": "stream",
          "name": "stdout",
          "text": [
            "6\n"
          ]
        }
      ]
    },
    {
      "cell_type": "code",
      "source": [
        "print(fn)"
      ],
      "metadata": {
        "colab": {
          "base_uri": "https://localhost:8080/"
        },
        "id": "hgtJfNWgRL5n",
        "outputId": "fbb738fc-6b1d-49d4-d610-b732fc6dd861"
      },
      "execution_count": 41,
      "outputs": [
        {
          "output_type": "stream",
          "name": "stdout",
          "text": [
            "16\n"
          ]
        }
      ]
    }
  ]
}